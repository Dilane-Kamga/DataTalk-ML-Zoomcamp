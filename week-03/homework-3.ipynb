{
 "cells": [
  {
   "cell_type": "markdown",
   "id": "7af45b6e-5bb3-4dbf-966a-95fc6c29c797",
   "metadata": {},
   "source": [
    "# Bank Marketing Dataset - Machine Learning Zoomcamp Homework\r\n",
    "\r\n",
    "In this notebook, we'll analyze the Bank Marketing dataset and perform several tasks, including data preparation, correlation analysis, logistic regression, and feature elimination.\r\n"
   ]
  },
  {
   "cell_type": "markdown",
   "id": "6b0bb8d4-bbd9-4b66-b608-eb9f26086b32",
   "metadata": {},
   "source": [
    "## Data Loading and Preparation\n",
    "\n",
    "Here, we'll load the dataset and perform the initial data preparation steps:"
   ]
  },
  {
   "cell_type": "code",
   "execution_count": 3,
   "id": "99fe2996-d571-4866-9d88-ed677d32721f",
   "metadata": {},
   "outputs": [
    {
     "data": {
      "text/html": [
       "<div>\n",
       "<style scoped>\n",
       "    .dataframe tbody tr th:only-of-type {\n",
       "        vertical-align: middle;\n",
       "    }\n",
       "\n",
       "    .dataframe tbody tr th {\n",
       "        vertical-align: top;\n",
       "    }\n",
       "\n",
       "    .dataframe thead th {\n",
       "        text-align: right;\n",
       "    }\n",
       "</style>\n",
       "<table border=\"1\" class=\"dataframe\">\n",
       "  <thead>\n",
       "    <tr style=\"text-align: right;\">\n",
       "      <th></th>\n",
       "      <th>age</th>\n",
       "      <th>job</th>\n",
       "      <th>marital</th>\n",
       "      <th>education</th>\n",
       "      <th>default</th>\n",
       "      <th>balance</th>\n",
       "      <th>housing</th>\n",
       "      <th>loan</th>\n",
       "      <th>contact</th>\n",
       "      <th>day</th>\n",
       "      <th>month</th>\n",
       "      <th>duration</th>\n",
       "      <th>campaign</th>\n",
       "      <th>pdays</th>\n",
       "      <th>previous</th>\n",
       "      <th>poutcome</th>\n",
       "      <th>y</th>\n",
       "    </tr>\n",
       "  </thead>\n",
       "  <tbody>\n",
       "    <tr>\n",
       "      <th>0</th>\n",
       "      <td>58</td>\n",
       "      <td>management</td>\n",
       "      <td>married</td>\n",
       "      <td>tertiary</td>\n",
       "      <td>no</td>\n",
       "      <td>2143</td>\n",
       "      <td>yes</td>\n",
       "      <td>no</td>\n",
       "      <td>unknown</td>\n",
       "      <td>5</td>\n",
       "      <td>may</td>\n",
       "      <td>261</td>\n",
       "      <td>1</td>\n",
       "      <td>-1</td>\n",
       "      <td>0</td>\n",
       "      <td>unknown</td>\n",
       "      <td>no</td>\n",
       "    </tr>\n",
       "    <tr>\n",
       "      <th>1</th>\n",
       "      <td>44</td>\n",
       "      <td>technician</td>\n",
       "      <td>single</td>\n",
       "      <td>secondary</td>\n",
       "      <td>no</td>\n",
       "      <td>29</td>\n",
       "      <td>yes</td>\n",
       "      <td>no</td>\n",
       "      <td>unknown</td>\n",
       "      <td>5</td>\n",
       "      <td>may</td>\n",
       "      <td>151</td>\n",
       "      <td>1</td>\n",
       "      <td>-1</td>\n",
       "      <td>0</td>\n",
       "      <td>unknown</td>\n",
       "      <td>no</td>\n",
       "    </tr>\n",
       "    <tr>\n",
       "      <th>2</th>\n",
       "      <td>33</td>\n",
       "      <td>entrepreneur</td>\n",
       "      <td>married</td>\n",
       "      <td>secondary</td>\n",
       "      <td>no</td>\n",
       "      <td>2</td>\n",
       "      <td>yes</td>\n",
       "      <td>yes</td>\n",
       "      <td>unknown</td>\n",
       "      <td>5</td>\n",
       "      <td>may</td>\n",
       "      <td>76</td>\n",
       "      <td>1</td>\n",
       "      <td>-1</td>\n",
       "      <td>0</td>\n",
       "      <td>unknown</td>\n",
       "      <td>no</td>\n",
       "    </tr>\n",
       "    <tr>\n",
       "      <th>3</th>\n",
       "      <td>47</td>\n",
       "      <td>blue-collar</td>\n",
       "      <td>married</td>\n",
       "      <td>unknown</td>\n",
       "      <td>no</td>\n",
       "      <td>1506</td>\n",
       "      <td>yes</td>\n",
       "      <td>no</td>\n",
       "      <td>unknown</td>\n",
       "      <td>5</td>\n",
       "      <td>may</td>\n",
       "      <td>92</td>\n",
       "      <td>1</td>\n",
       "      <td>-1</td>\n",
       "      <td>0</td>\n",
       "      <td>unknown</td>\n",
       "      <td>no</td>\n",
       "    </tr>\n",
       "    <tr>\n",
       "      <th>4</th>\n",
       "      <td>33</td>\n",
       "      <td>unknown</td>\n",
       "      <td>single</td>\n",
       "      <td>unknown</td>\n",
       "      <td>no</td>\n",
       "      <td>1</td>\n",
       "      <td>no</td>\n",
       "      <td>no</td>\n",
       "      <td>unknown</td>\n",
       "      <td>5</td>\n",
       "      <td>may</td>\n",
       "      <td>198</td>\n",
       "      <td>1</td>\n",
       "      <td>-1</td>\n",
       "      <td>0</td>\n",
       "      <td>unknown</td>\n",
       "      <td>no</td>\n",
       "    </tr>\n",
       "  </tbody>\n",
       "</table>\n",
       "</div>"
      ],
      "text/plain": [
       "   age           job  marital  education default  balance housing loan  \\\n",
       "0   58    management  married   tertiary      no     2143     yes   no   \n",
       "1   44    technician   single  secondary      no       29     yes   no   \n",
       "2   33  entrepreneur  married  secondary      no        2     yes  yes   \n",
       "3   47   blue-collar  married    unknown      no     1506     yes   no   \n",
       "4   33       unknown   single    unknown      no        1      no   no   \n",
       "\n",
       "   contact  day month  duration  campaign  pdays  previous poutcome   y  \n",
       "0  unknown    5   may       261         1     -1         0  unknown  no  \n",
       "1  unknown    5   may       151         1     -1         0  unknown  no  \n",
       "2  unknown    5   may        76         1     -1         0  unknown  no  \n",
       "3  unknown    5   may        92         1     -1         0  unknown  no  \n",
       "4  unknown    5   may       198         1     -1         0  unknown  no  "
      ]
     },
     "execution_count": 3,
     "metadata": {},
     "output_type": "execute_result"
    }
   ],
   "source": [
    "# Libraries\n",
    "import pandas as pd\n",
    "import numpy as np\n",
    "from sklearn.model_selection import train_test_split\n",
    "import seaborn as sns\n",
    "import matplotlib.pyplot as plt\n",
    "\n",
    "# Load the csv file\n",
    "df = pd.read_csv('bank/bank-full.csv', delimiter=';')\n",
    "\n",
    "# Display the first few rows of the dataset\n",
    "df.head()"
   ]
  },
  {
   "cell_type": "markdown",
   "id": "09e26335-e62d-4c60-913e-107e9835891f",
   "metadata": {},
   "source": [
    "### Feature Selection and Missing Values"
   ]
  },
  {
   "cell_type": "code",
   "execution_count": 5,
   "id": "ebf0eda5-0584-4a6a-9a20-5cb7433c6573",
   "metadata": {},
   "outputs": [
    {
     "data": {
      "text/plain": [
       "age          0\n",
       "job          0\n",
       "marital      0\n",
       "education    0\n",
       "balance      0\n",
       "housing      0\n",
       "contact      0\n",
       "day          0\n",
       "month        0\n",
       "duration     0\n",
       "campaign     0\n",
       "pdays        0\n",
       "previous     0\n",
       "poutcome     0\n",
       "y            0\n",
       "dtype: int64"
      ]
     },
     "execution_count": 5,
     "metadata": {},
     "output_type": "execute_result"
    }
   ],
   "source": [
    "# Select only the required columns\n",
    "columns = ['age', 'job', 'marital', 'education', 'balance', 'housing', 'contact',\n",
    "           'day', 'month', 'duration', 'campaign', 'pdays', 'previous', 'poutcome', 'y']\n",
    "df = df[columns]\n",
    "\n",
    "# Check for missing values\n",
    "df.isnull().sum()"
   ]
  },
  {
   "cell_type": "markdown",
   "id": "3bfcc69c-bf54-480f-850c-b82ed61f7269",
   "metadata": {},
   "source": [
    "### Question 1: Mode of the Education Column"
   ]
  },
  {
   "cell_type": "code",
   "execution_count": 6,
   "id": "fcf2ee10-63ff-4093-8539-1e0c21c51bde",
   "metadata": {},
   "outputs": [
    {
     "name": "stdout",
     "output_type": "stream",
     "text": [
      "The mode for the education column is: secondary\n"
     ]
    }
   ],
   "source": [
    "# Find the mode of the education column\n",
    "education_mode = df['education'].mode()[0]\n",
    "print(f\"The mode for the education column is: {education_mode}\")"
   ]
  },
  {
   "cell_type": "markdown",
   "id": "42bf4cfe-b7c6-45a9-b197-564fee3bdbb4",
   "metadata": {},
   "source": [
    "### Question 2: Correlation Matrix"
   ]
  },
  {
   "cell_type": "code",
   "execution_count": 7,
   "id": "3704107f-75b8-4ee0-92c7-966d6980075e",
   "metadata": {},
   "outputs": [
    {
     "data": {
      "image/png": "[encoded data removed]",
      "text/plain": [
       "<Figure size 1000x600 with 2 Axes>"
      ]
     },
     "metadata": {},
     "output_type": "display_data"
    }
   ],
   "source": [
    "# Select numerical features\n",
    "numerical_features = ['age', 'balance', 'day', 'duration', 'campaign', 'pdays', 'previous']\n",
    "\n",
    "# Compute the correlation matrix\n",
    "corr_matrix = df[numerical_features].corr()\n",
    "\n",
    "# Plot the correlation matrix\n",
    "plt.figure(figsize=(10, 6))\n",
    "sns.heatmap(corr_matrix, annot=True, cmap='coolwarm', linewidths=0.5)\n",
    "plt.title(\"Correlation Matrix of Numerical Features\")\n",
    "plt.show()"
   ]
  },
  {
   "cell_type": "markdown",
   "id": "eb80ba19-49c7-49cf-ba3c-807f4c9b2d3b",
   "metadata": {},
   "source": [
    "### Target Encoding"
   ]
  },
  {
   "cell_type": "code",
   "execution_count": 8,
   "id": "2a0026cc-c4d6-4537-8be5-7f9f4dcc3b5e",
   "metadata": {},
   "outputs": [],
   "source": [
    "# Encode target variable y (yes/no to 1/0)\n",
    "df['y'] = df['y'].map({'yes': 1, 'no': 0})"
   ]
  },
  {
   "cell_type": "markdown",
   "id": "d84c45b8-2805-4d86-8a7f-efbfc839e0f0",
   "metadata": {},
   "source": [
    "### Data Splitting"
   ]
  },
  {
   "cell_type": "code",
   "execution_count": 9,
   "id": "023e1428-0bbe-47ee-8379-da86dba86ad7",
   "metadata": {},
   "outputs": [],
   "source": [
    "# Split the data into training, validation, and test sets (60%/20%/20%)\n",
    "df_train, df_temp = train_test_split(df, test_size=0.4, random_state=42)\n",
    "df_val, df_test = train_test_split(df_temp, test_size=0.5, random_state=42)"
   ]
  },
  {
   "cell_type": "markdown",
   "id": "881c9edc-4607-4f44-9868-68734440debf",
   "metadata": {},
   "source": [
    "### Question 3: Mutual Information Score"
   ]
  },
  {
   "cell_type": "code",
   "execution_count": 10,
   "id": "6a643f97-2c8c-4ae1-a4b2-c2effbe3d694",
   "metadata": {},
   "outputs": [
    {
     "data": {
      "text/plain": [
       "poutcome_success       0.03\n",
       "contact_unknown        0.02\n",
       "housing_yes            0.02\n",
       "poutcome_unknown       0.01\n",
       "education_secondary    0.01\n",
       "month_sep              0.01\n",
       "marital_married        0.01\n",
       "job_student            0.00\n",
       "poutcome_other         0.00\n",
       "month_oct              0.00\n",
       "marital_single         0.00\n",
       "month_may              0.00\n",
       "month_aug              0.00\n",
       "job_unknown            0.00\n",
       "job_retired            0.00\n",
       "job_entrepreneur       0.00\n",
       "month_jul              0.00\n",
       "job_blue-collar        0.00\n",
       "month_mar              0.00\n",
       "month_jan              0.00\n",
       "job_services           0.00\n",
       "education_tertiary     0.00\n",
       "month_nov              0.00\n",
       "job_management         0.00\n",
       "month_dec              0.00\n",
       "job_technician         0.00\n",
       "job_unemployed         0.00\n",
       "job_self-employed      0.00\n",
       "month_feb              0.00\n",
       "month_jun              0.00\n",
       "contact_telephone      0.00\n",
       "education_unknown      0.00\n",
       "job_housemaid          0.00\n",
       "dtype: float64"
      ]
     },
     "execution_count": 10,
     "metadata": {},
     "output_type": "execute_result"
    }
   ],
   "source": [
    "from sklearn.feature_selection import mutual_info_classif\n",
    "\n",
    "# Extract categorical features\n",
    "categorical_features = ['job', 'marital', 'education', 'housing', 'contact', 'month', 'poutcome']\n",
    "\n",
    "# Mutual information score calculation\n",
    "X_train = df_train[categorical_features]\n",
    "y_train = df_train['y']\n",
    "\n",
    "# Convert categorical features to numerical using one-hot encoding\n",
    "X_train_encoded = pd.get_dummies(X_train, drop_first=True)\n",
    "\n",
    "# Calculate mutual information score\n",
    "mi_scores = mutual_info_classif(X_train_encoded, y_train)\n",
    "mi_scores = pd.Series(mi_scores, index=X_train_encoded.columns).sort_values(ascending=False)\n",
    "\n",
    "# Display the mutual information scores\n",
    "mi_scores.round(2)"
   ]
  },
  {
   "cell_type": "markdown",
   "id": "f7a8615b-99b3-4485-a72f-79ba69ca32b7",
   "metadata": {},
   "source": [
    "### Question 4: Logistic Regression"
   ]
  },
  {
   "cell_type": "code",
   "execution_count": 11,
   "id": "af5456e7-3f6c-43a3-a680-89876431e3c0",
   "metadata": {},
   "outputs": [
    {
     "name": "stdout",
     "output_type": "stream",
     "text": [
      "Validation accuracy: 0.90\n"
     ]
    }
   ],
   "source": [
    "from sklearn.linear_model import LogisticRegression\n",
    "from sklearn.metrics import accuracy_score\n",
    "\n",
    "# One-hot encode categorical features for logistic regression\n",
    "X_train_full = pd.get_dummies(df_train.drop('y', axis=1), drop_first=True)\n",
    "X_val_full = pd.get_dummies(df_val.drop('y', axis=1), drop_first=True)\n",
    "\n",
    "y_train = df_train['y']\n",
    "y_val = df_val['y']\n",
    "\n",
    "# Train logistic regression model\n",
    "model = LogisticRegression(solver='liblinear', C=1.0, max_iter=1000, random_state=42)\n",
    "model.fit(X_train_full, y_train)\n",
    "\n",
    "# Validate the model\n",
    "y_pred = model.predict(X_val_full)\n",
    "accuracy = accuracy_score(y_val, y_pred)\n",
    "print(f\"Validation accuracy: {accuracy:.2f}\")"
   ]
  },
  {
   "cell_type": "markdown",
   "id": "10b4653a-9b30-4021-a001-3968d4773d9d",
   "metadata": {},
   "source": [
    "### Question 5: Feature Elimination"
   ]
  },
  {
   "cell_type": "code",
   "execution_count": 12,
   "id": "a26965b8-f461-4ac5-a774-922a58d6f853",
   "metadata": {},
   "outputs": [
    {
     "name": "stdout",
     "output_type": "stream",
     "text": [
      "Feature with the smallest difference: month_jul\n"
     ]
    }
   ],
   "source": [
    "# Train model with all features (baseline)\n",
    "baseline_accuracy = accuracy_score(y_val, model.predict(X_val_full))\n",
    "\n",
    "# Evaluate feature elimination\n",
    "features = X_train_full.columns\n",
    "accuracy_diffs = {}\n",
    "\n",
    "for feature in features:\n",
    "    X_train_new = X_train_full.drop(columns=[feature])\n",
    "    X_val_new = X_val_full.drop(columns=[feature])\n",
    "    \n",
    "    model.fit(X_train_new, y_train)\n",
    "    accuracy_new = accuracy_score(y_val, model.predict(X_val_new))\n",
    "    accuracy_diffs[feature] = baseline_accuracy - accuracy_new\n",
    "\n",
    "# Find feature with the smallest difference\n",
    "smallest_diff_feature = min(accuracy_diffs, key=accuracy_diffs.get)\n",
    "print(f\"Feature with the smallest difference: {smallest_diff_feature}\")"
   ]
  },
  {
   "cell_type": "markdown",
   "id": "6431556a-cf5d-43a1-9c67-3454a8cd4bb9",
   "metadata": {},
   "source": [
    "### Question 6: Regularized Logistic Regression"
   ]
  },
  {
   "cell_type": "code",
   "execution_count": 13,
   "id": "198ff39c-71fa-4cf4-bbc8-3117a03f8840",
   "metadata": {},
   "outputs": [
    {
     "name": "stdout",
     "output_type": "stream",
     "text": [
      "C=0.01: Validation accuracy = 0.898\n",
      "C=0.1: Validation accuracy = 0.900\n",
      "C=1: Validation accuracy = 0.901\n",
      "C=10: Validation accuracy = 0.900\n",
      "C=100: Validation accuracy = 0.901\n",
      "Best C value: 1\n"
     ]
    }
   ],
   "source": [
    "# Try different values of C for regularization\n",
    "C_values = [0.01, 0.1, 1, 10, 100]\n",
    "best_C = None\n",
    "best_accuracy = 0\n",
    "\n",
    "for C in C_values:\n",
    "    model = LogisticRegression(solver='liblinear', C=C, max_iter=1000, random_state=42)\n",
    "    model.fit(X_train_full, y_train)\n",
    "    accuracy = accuracy_score(y_val, model.predict(X_val_full))\n",
    "    print(f\"C={C}: Validation accuracy = {accuracy:.3f}\")\n",
    "    \n",
    "    if accuracy > best_accuracy:\n",
    "        best_accuracy = accuracy\n",
    "        best_C = C\n",
    "\n",
    "print(f\"Best C value: {best_C}\")"
   ]
  },
  {
   "cell_type": "markdown",
   "id": "1264c44e-d6e2-4da8-a16c-aff555882ec6",
   "metadata": {},
   "source": [
    "## Conclusion\r\n",
    "\r\n",
    "- The mode for the education column issecondary..`.\r\n",
    "- The strongest correlation is betweepdays...` anprevious...`.\r\n",
    "- The best logistic regression model has an accuracy 0.901`...`.\r\n",
    "- The least useful featuremonth_jul `...`, and the best value for C1 `.`.\r\n",
    "\n"
   ]
  },
  {
   "cell_type": "code",
   "execution_count": null,
   "id": "4dba5324-b853-4ec3-b5cd-9a7fd23fa2e6",
   "metadata": {},
   "outputs": [],
   "source": []
  }
 ],
 "metadata": {
  "kernelspec": {
   "display_name": "Python 3 (ipykernel)",
   "language": "python",
   "name": "python3"
  },
  "language_info": {
   "codemirror_mode": {
    "name": "ipython",
    "version": 3
   },
   "file_extension": ".py",
   "mimetype": "text/x-python",
   "name": "python",
   "nbconvert_exporter": "python",
   "pygments_lexer": "ipython3",
   "version": "3.12.4"
  }
 },
 "nbformat": 4,
 "nbformat_minor": 5
}
